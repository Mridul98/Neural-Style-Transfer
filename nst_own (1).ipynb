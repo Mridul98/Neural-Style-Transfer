{
 "cells": [
  {
   "cell_type": "code",
   "execution_count": 1,
   "metadata": {
    "colab": {},
    "colab_type": "code",
    "id": "ryK4XhC_cORK"
   },
   "outputs": [],
   "source": [
    "import torch\n",
    "import torch.nn as nn\n",
    "import torchvision.models as models\n",
    "import torchvision.transforms as tf\n",
    "import torch.optim as optim\n",
    "from PIL import Image\n",
    "import numpy as np\n",
    "import matplotlib.pyplot as plt\n"
   ]
  },
  {
   "cell_type": "code",
   "execution_count": 2,
   "metadata": {
    "colab": {
     "base_uri": "https://localhost:8080/",
     "height": 34
    },
    "colab_type": "code",
    "id": "qD7erMN-cORO",
    "outputId": "f5fe62c0-0ae2-4a31-e521-7860753c8cce",
    "tags": []
   },
   "outputs": [
    {
     "output_type": "stream",
     "name": "stdout",
     "text": "cuda:0\n"
    }
   ],
   "source": [
    "device  = torch.device(\"cuda: 0 \" if torch.cuda.is_available() else \"cpu\")\n",
    "print(device)"
   ]
  },
  {
   "cell_type": "code",
   "execution_count": 3,
   "metadata": {
    "colab": {},
    "colab_type": "code",
    "id": "90le9cmqCeFT"
   },
   "outputs": [],
   "source": [
    "def load_img(image):\n",
    "  img = Image.open(image).convert('RGB')\n",
    "  img = img.resize((600,400))\n",
    "  im_transform = tf.Compose(\n",
    "      [\n",
    "       tf.ToTensor(),\n",
    "       tf.Normalize((0.485,0.456,0.406),(0.229,0.224,0.225))\n",
    "      ]\n",
    "  )\n",
    "  img = im_transform(img)\n",
    " \n",
    "  img = torch.unsqueeze(img,0)\n",
    "  return img"
   ]
  },
  {
   "cell_type": "code",
   "execution_count": 4,
   "metadata": {
    "colab": {},
    "colab_type": "code",
    "id": "XcTgKehlSfd5"
   },
   "outputs": [],
   "source": [
    "def im_convert(tensor,index):\n",
    " \n",
    "  image = tensor.to(\"cpu\").clone().detach()\n",
    "  image = nn.Upsample(scale_factor=2.0,mode='bilinear')(image)\n",
    "  image = image.numpy().squeeze()\n",
    "  image = image.transpose(1,2,0)\n",
    "  image = image * np.array((0.229,0.224,0.225)) + np.array((0.485, 0.456,0.406))\n",
    "  image = image.clip(0,1)\n",
    "  image = (image*np.array([255,255,255])).astype(np.uint8)\n",
    "  image = Image.fromarray(image)\n",
    "  image.save('seq'+str(index)+'.jpg')\n",
    "  \n",
    "  return image"
   ]
  },
  {
   "cell_type": "code",
   "execution_count": 5,
   "metadata": {
    "colab": {},
    "colab_type": "code",
    "id": "rweACD2iHQW5"
   },
   "outputs": [],
   "source": [
    "def saveIamge(tensor):\n",
    "  image = tensor.cpu().clone().detach()\n",
    "  image = torch.squeeze(image).transpose(1,2,0).numpy()\n",
    "  image = image*np.array((0.229,0.224,0.225))+np.array((0.485,0.456,0.406))\n",
    "  image = image.clip(0,1)\n",
    "  image = tf.ToPILImage()(image)\n",
    "  image.save('/content/art.jpg')"
   ]
  },
  {
   "cell_type": "code",
   "execution_count": 6,
   "metadata": {
    "colab": {
     "base_uri": "https://localhost:8080/",
     "height": 34
    },
    "colab_type": "code",
    "id": "dEbbmiFucORS",
    "outputId": "c43b4752-ae19-4d85-bd00-dd174160f176",
    "tags": []
   },
   "outputs": [
    {
     "output_type": "stream",
     "name": "stdout",
     "text": "[0, 5, 10, 19, 22, 25, 34]\n"
    }
   ],
   "source": [
    "content_layer_index = 22\n",
    "style_layer_indexes = [ 0 ,5, 10, 19, 25, 34 ]\n",
    "style_layer_indexes.append(content_layer_index)\n",
    "indexes = sorted(style_layer_indexes)\n",
    "print(indexes)"
   ]
  },
  {
   "cell_type": "code",
   "execution_count": 7,
   "metadata": {
    "colab": {},
    "colab_type": "code",
    "id": "oa6A3IuXcORV"
   },
   "outputs": [],
   "source": [
    "def gram_matrix(tensor):\n",
    "    batch,channel,width,height = tensor.shape\n",
    "    tensor = torch.squeeze(tensor)\n",
    "    tensor = tensor.view(channel,height*width)\n",
    "    return torch.mm(tensor,tensor.t())"
   ]
  },
  {
   "cell_type": "code",
   "execution_count": 8,
   "metadata": {
    "colab": {
     "base_uri": "https://localhost:8080/",
     "height": 884
    },
    "colab_type": "code",
    "id": "0Ly8w8-WcOSN",
    "outputId": "524e1d70-2545-4edc-cc8d-3e811637a7a7"
   },
   "outputs": [
    {
     "output_type": "execute_result",
     "data": {
      "text/plain": "VGG(\n  (features): Sequential(\n    (0): Conv2d(3, 64, kernel_size=(3, 3), stride=(1, 1), padding=(1, 1))\n    (1): ReLU(inplace=True)\n    (2): Conv2d(64, 64, kernel_size=(3, 3), stride=(1, 1), padding=(1, 1))\n    (3): ReLU(inplace=True)\n    (4): AvgPool2d(kernel_size=2, stride=2, padding=0)\n    (5): Conv2d(64, 128, kernel_size=(3, 3), stride=(1, 1), padding=(1, 1))\n    (6): ReLU(inplace=True)\n    (7): Conv2d(128, 128, kernel_size=(3, 3), stride=(1, 1), padding=(1, 1))\n    (8): ReLU(inplace=True)\n    (9): AvgPool2d(kernel_size=2, stride=2, padding=0)\n    (10): Conv2d(128, 256, kernel_size=(3, 3), stride=(1, 1), padding=(1, 1))\n    (11): ReLU(inplace=True)\n    (12): Conv2d(256, 256, kernel_size=(3, 3), stride=(1, 1), padding=(1, 1))\n    (13): ReLU(inplace=True)\n    (14): Conv2d(256, 256, kernel_size=(3, 3), stride=(1, 1), padding=(1, 1))\n    (15): ReLU(inplace=True)\n    (16): Conv2d(256, 256, kernel_size=(3, 3), stride=(1, 1), padding=(1, 1))\n    (17): ReLU(inplace=True)\n    (18): AvgPool2d(kernel_size=2, stride=2, padding=0)\n    (19): Conv2d(256, 512, kernel_size=(3, 3), stride=(1, 1), padding=(1, 1))\n    (20): ReLU(inplace=True)\n    (21): Conv2d(512, 512, kernel_size=(3, 3), stride=(1, 1), padding=(1, 1))\n    (22): ReLU(inplace=True)\n    (23): Conv2d(512, 512, kernel_size=(3, 3), stride=(1, 1), padding=(1, 1))\n    (24): ReLU(inplace=True)\n    (25): Conv2d(512, 512, kernel_size=(3, 3), stride=(1, 1), padding=(1, 1))\n    (26): ReLU(inplace=True)\n    (27): AvgPool2d(kernel_size=2, stride=2, padding=0)\n    (28): Conv2d(512, 512, kernel_size=(3, 3), stride=(1, 1), padding=(1, 1))\n    (29): ReLU(inplace=True)\n    (30): Conv2d(512, 512, kernel_size=(3, 3), stride=(1, 1), padding=(1, 1))\n    (31): ReLU(inplace=True)\n    (32): Conv2d(512, 512, kernel_size=(3, 3), stride=(1, 1), padding=(1, 1))\n    (33): ReLU(inplace=True)\n    (34): Conv2d(512, 512, kernel_size=(3, 3), stride=(1, 1), padding=(1, 1))\n    (35): ReLU(inplace=True)\n    (36): AvgPool2d(kernel_size=2, stride=2, padding=0)\n  )\n  (avgpool): AdaptiveAvgPool2d(output_size=(7, 7))\n  (classifier): Sequential(\n    (0): Linear(in_features=25088, out_features=4096, bias=True)\n    (1): ReLU(inplace=True)\n    (2): Dropout(p=0.5, inplace=False)\n    (3): Linear(in_features=4096, out_features=4096, bias=True)\n    (4): ReLU(inplace=True)\n    (5): Dropout(p=0.5, inplace=False)\n    (6): Linear(in_features=4096, out_features=1000, bias=True)\n  )\n)"
     },
     "metadata": {},
     "execution_count": 8
    }
   ],
   "source": [
    "vgg_19 = models.vgg19(pretrained=True)\n",
    "for params in vgg_19.parameters():\n",
    "  params.requires_grad = False\n",
    "vgg_19.cuda().eval()\n",
    "for i, layer in enumerate(vgg_19.features):\n",
    "  if isinstance(layer, torch.nn.MaxPool2d):\n",
    "    vgg_19.features[i] = torch.nn.AvgPool2d(kernel_size=2, stride=2, padding=0)\n",
    "vgg_19"
   ]
  },
  {
   "cell_type": "code",
   "execution_count": 9,
   "metadata": {
    "colab": {},
    "colab_type": "code",
    "id": "jedC4Vta-4i3"
   },
   "outputs": [],
   "source": [
    "def get_feature(image,model,indexes):\n",
    "  feature = list()\n",
    "  x = image\n",
    "  for i , layer in enumerate(model.features):\n",
    "    x = layer(x)\n",
    "    if i in indexes:\n",
    "      \n",
    "      feature.append(x)\n",
    "  return feature"
   ]
  },
  {
   "cell_type": "code",
   "execution_count": 9,
   "metadata": {
    "colab": {},
    "colab_type": "code",
    "id": "DALpEOgoFBHv"
   },
   "outputs": [],
   "source": []
  },
  {
   "cell_type": "code",
   "execution_count": 10,
   "metadata": {
    "colab": {},
    "colab_type": "code",
    "id": "GDe4WXxBCJoj"
   },
   "outputs": [],
   "source": [
    "contentImage = load_img('content.jpg')\n",
    "styleImage = load_img('style.jpg')\n",
    "contentImage , styleImage = contentImage.cuda() , styleImage.cuda()\n",
    "contentFeatures = get_feature(contentImage,vgg_19,indexes)[4]\n",
    "style_features = get_feature(styleImage,vgg_19,indexes)\n",
    "del style_features[4]"
   ]
  },
  {
   "cell_type": "code",
   "execution_count": 11,
   "metadata": {
    "colab": {
     "base_uri": "https://localhost:8080/",
     "height": 34
    },
    "colab_type": "code",
    "id": "WYbPgm21HH0d",
    "outputId": "14848b5d-08ea-43a1-a9ca-9d51f18bbcee"
   },
   "outputs": [
    {
     "output_type": "execute_result",
     "data": {
      "text/plain": "6"
     },
     "metadata": {},
     "execution_count": 11
    }
   ],
   "source": [
    "len(style_features)"
   ]
  },
  {
   "cell_type": "code",
   "execution_count": 12,
   "metadata": {
    "colab": {},
    "colab_type": "code",
    "id": "7-r56nXmE5OT"
   },
   "outputs": [],
   "source": [
    "style_gram = [gram_matrix(style_features[i]) for i in range(len(style_features))]"
   ]
  },
  {
   "cell_type": "code",
   "execution_count": 13,
   "metadata": {
    "colab": {
     "base_uri": "https://localhost:8080/",
     "height": 34
    },
    "colab_type": "code",
    "id": "33A1ycUWAyIQ",
    "outputId": "1c490780-2ce3-45b4-8325-7ff91f0e86bd"
   },
   "outputs": [
    {
     "output_type": "execute_result",
     "data": {
      "text/plain": "False"
     },
     "metadata": {},
     "execution_count": 13
    }
   ],
   "source": [
    "len(style_gram)\n",
    "style_gram[0].requires_grad"
   ]
  },
  {
   "cell_type": "code",
   "execution_count": 14,
   "metadata": {
    "colab": {
     "base_uri": "https://localhost:8080/",
     "height": 34
    },
    "colab_type": "code",
    "id": "2vfFsCWcNXCK",
    "outputId": "ff855dfd-cb02-4a65-c546-1878ae45b605"
   },
   "outputs": [
    {
     "output_type": "execute_result",
     "data": {
      "text/plain": "6"
     },
     "metadata": {},
     "execution_count": 14
    }
   ],
   "source": [
    "style_gram_weights = [0.75,0.5,0.5,0.3,0.3,0.3]\n",
    "len(style_gram_weights)"
   ]
  },
  {
   "cell_type": "code",
   "execution_count": 15,
   "metadata": {
    "colab": {},
    "colab_type": "code",
    "id": "s7oS7UnMGazX"
   },
   "outputs": [],
   "source": [
    "target = torch.randn_like(contentImage).requires_grad_(True).cuda()"
   ]
  },
  {
   "cell_type": "code",
   "execution_count": 16,
   "metadata": {
    "colab": {},
    "colab_type": "code",
    "id": "nwORMYAjGeQQ"
   },
   "outputs": [],
   "source": [
    "optimizer  = optim.Adam([target],lr = 0.09)\n"
   ]
  },
  {
   "cell_type": "code",
   "execution_count": 17,
   "metadata": {
    "colab": {},
    "colab_type": "code",
    "id": "ia_CRcpKKf-B"
   },
   "outputs": [],
   "source": [
    "def train(epoch,contentWeight,styleWeight):\n",
    "  for i in range(epoch):\n",
    "     if i % 5 == 0:\n",
    "       intermediateImage = target.data\n",
    "       intermediateImage = im_convert(intermediateImage,i)\n",
    "       \n",
    "     optimizer.zero_grad()\n",
    "     target_features = get_feature(target, vgg_19,indexes)\n",
    "     _ , ct,ht,wt = target_features[4].shape\n",
    "     content_loss = torch.mean((target_features[4] - contentFeatures)**2)\n",
    "     del target_features[4]\n",
    "     style_loss = 0\n",
    " \n",
    "     for j in range(len(style_gram_weights)):\n",
    " \n",
    "       target_feature = target_features[j]\n",
    "       target_gram_matrix = gram_matrix(target_feature)\n",
    "       _, c , h , w = target_feature.shape\n",
    "       \n",
    "       layer_style_loss =style_gram_weights[j]*torch.mean((target_gram_matrix - style_gram[j])**2)/(c*h*w)\n",
    "       style_loss += layer_style_loss\n",
    "     totalLoss = contentWeight*content_loss + styleWeight*style_loss\n",
    "     print(i , totalLoss.data)\n",
    "     totalLoss.backward(retain_graph = True)\n",
    "     optimizer.step()"
   ]
  },
  {
   "cell_type": "code",
   "execution_count": 18,
   "metadata": {
    "colab": {
     "base_uri": "https://localhost:8080/",
     "height": 1000
    },
    "colab_type": "code",
    "id": "54p4lk9kUFbr",
    "outputId": "fa53adae-5823-4849-f371-85cc3fd18fb8",
    "tags": [
     "outputPrepend"
    ]
   },
   "outputs": [
    {
     "output_type": "stream",
     "name": "stdout",
     "text": "a:0')\n1485 tensor(966.5264, device='cuda:0')\n1486 tensor(966.2419, device='cuda:0')\n1487 tensor(967.2793, device='cuda:0')\n1488tensor(967.0166, device='cuda:0')\n1489 tensor(960.8626, device='cuda:0')\n1490 tensor(975.0743, device='cuda:0')\n1491 tensor(967.3707, device='cuda:0')\n1492 tensor(981.4148, device='cuda:0')\n1493tensor(983.0140, device='cuda:0')\n1494 tensor(989.0687, device='cuda:0')\n1495 tensor(998.0690, device='cuda:0')\n1496 tensor(998.6495, device='cuda:0')\n1497 tensor(989.1276, device='cuda:0')\n1498tensor(996.1116, device='cuda:0')\n1499 tensor(989.5811, device='cuda:0')\n1500 tensor(998.2710, device='cuda:0')\n1501 tensor(993.1476, device='cuda:0')\n1502 tensor(993.2811, device='cuda:0')\n1503tensor(991.2097, device='cuda:0')\n1504 tensor(988.5375, device='cuda:0')\n1505 tensor(994.3649, device='cuda:0')\n1506 tensor(993.6931, device='cuda:0')\n1507 tensor(998.0328, device='cuda:0')\n1508tensor(992.5330, device='cuda:0')\n1509 tensor(992.7362, device='cuda:0')\n1510 tensor(990.7444, device='cuda:0')\n1511 tensor(998.9398, device='cuda:0')\n1512 tensor(997.2759, device='cuda:0')\n1513tensor(1002.5497, device='cuda:0')\n1514 tensor(993.8583, device='cuda:0')\n1515 tensor(994.4056, device='cuda:0')\n1516 tensor(994.6948, device='cuda:0')\n1517 tensor(1003.9949, device='cuda:0')\n1518tensor(998.7718, device='cuda:0')\n1519 tensor(1002.3234, device='cuda:0')\n1520 tensor(997.6790, device='cuda:0')\n1521 tensor(985.4630, device='cuda:0')\n1522 tensor(989.7732, device='cuda:0')\n1523tensor(989.9464, device='cuda:0')\n1524 tensor(981.8988, device='cuda:0')\n1525 tensor(988.0226, device='cuda:0')\n1526 tensor(982.2134, device='cuda:0')\n1527 tensor(979.3845, device='cuda:0')\n1528tensor(986.6982, device='cuda:0')\n1529 tensor(983.6927, device='cuda:0')\n1530 tensor(982.5206, device='cuda:0')\n1531 tensor(978.7039, device='cuda:0')\n1532 tensor(984.7877, device='cuda:0')\n1533tensor(980.1017, device='cuda:0')\n1534 tensor(989.8744, device='cuda:0')\n1535 tensor(987.1228, device='cuda:0')\n1536 tensor(986.0209, device='cuda:0')\n1537 tensor(990.3649, device='cuda:0')\n1538tensor(994.8171, device='cuda:0')\n1539 tensor(992.8550, device='cuda:0')\n1540 tensor(1001.3199, device='cuda:0')\n1541 tensor(995.4666, device='cuda:0')\n1542 tensor(1004.6646, device='cuda:0')\n1543tensor(997.3016, device='cuda:0')\n1544 tensor(1001.5984, device='cuda:0')\n1545 tensor(996.7982, device='cuda:0')\n1546 tensor(1006.0834, device='cuda:0')\n1547 tensor(1012.9999, device='cuda:0')\n1548tensor(1014.0890, device='cuda:0')\n1549 tensor(1009.3768, device='cuda:0')\n1550 tensor(1016.7686, device='cuda:0')\n1551 tensor(1010.1064, device='cuda:0')\n1552 tensor(1010.7202, device='cuda:0')\n1553tensor(1005.0515, device='cuda:0')\n1554 tensor(1010.7484, device='cuda:0')\n1555 tensor(1001.0454, device='cuda:0')\n1556 tensor(1006.9434, device='cuda:0')\n1557 tensor(999.7806, device='cuda:0')\n1558tensor(998.8778, device='cuda:0')\n1559 tensor(999.2081, device='cuda:0')\n1560 tensor(996.4971, device='cuda:0')\n1561 tensor(1000.3129, device='cuda:0')\n1562 tensor(991.3419, device='cuda:0')\n1563tensor(987.0426, device='cuda:0')\n1564 tensor(984.2791, device='cuda:0')\n1565 tensor(981.3959, device='cuda:0')\n1566 tensor(987.0703, device='cuda:0')\n1567 tensor(989.0194, device='cuda:0')\n1568tensor(991.1474, device='cuda:0')\n1569 tensor(989.1189, device='cuda:0')\n1570 tensor(982.2729, device='cuda:0')\n1571 tensor(976.6674, device='cuda:0')\n1572 tensor(975.9592, device='cuda:0')\n1573tensor(965.4060, device='cuda:0')\n1574 tensor(964.2870, device='cuda:0')\n1575 tensor(963.8101, device='cuda:0')\n1576 tensor(957.1544, device='cuda:0')\n1577 tensor(963.8186, device='cuda:0')\n1578tensor(980.1658, device='cuda:0')\n1579 tensor(987.1294, device='cuda:0')\n1580 tensor(983.3970, device='cuda:0')\n1581 tensor(975.0345, device='cuda:0')\n1582 tensor(993.4718, device='cuda:0')\n1583tensor(999.2534, device='cuda:0')\n1584 tensor(1003.1793, device='cuda:0')\n1585 tensor(1008.5838, device='cuda:0')\n1586 tensor(1009.8104, device='cuda:0')\n1587 tensor(1018.8027, device='cuda:0')\n1588tensor(1016.0355, device='cuda:0')\n1589 tensor(1024.1282, device='cuda:0')\n1590 tensor(1017.6836, device='cuda:0')\n1591 tensor(1020.8901, device='cuda:0')\n1592 tensor(1021.6686, device='cuda:0')\n1593tensor(1017.6492, device='cuda:0')\n1594 tensor(1007.9484, device='cuda:0')\n1595 tensor(1000.7781, device='cuda:0')\n1596tensor(993.1288, device='cuda:0')\n1597 tensor(995.3112, device='cuda:0')\n1598tensor(993.5903, device='cuda:0')\n1599 tensor(998.8738, device='cuda:0')\n1600 tensor(997.3356, device='cuda:0')\n1601 tensor(1017.9840, device='cuda:0')\n1602 tensor(1021.1981, device='cuda:0')\n1603tensor(1036.1705, device='cuda:0')\n1604 tensor(1031.5381, device='cuda:0')\n1605 tensor(1036.8882, device='cuda:0')\n1606 tensor(1026.5670, device='cuda:0')\n1607 tensor(1023.7332, device='cuda:0')\n1608tensor(1021.7686, device='cuda:0')\n1609 tensor(1025.8596, device='cuda:0')\n1610 tensor(1026.2113, device='cuda:0')\n1611 tensor(1016.9900, device='cuda:0')\n1612 tensor(1025.9174, device='cuda:0')\n1613tensor(1013.1777, device='cuda:0')\n1614 tensor(1009.5897, device='cuda:0')\n1615 tensor(999.7848, device='cuda:0')\n1616 tensor(989.8677, device='cuda:0')\n1617 tensor(985.2340, device='cuda:0')\n1618tensor(978.7661, device='cuda:0')\n1619 tensor(977.1602, device='cuda:0')\n1620 tensor(977.3774, device='cuda:0')\n1621 tensor(981.5786, device='cuda:0')\n1622 tensor(987.2643, device='cuda:0')\n1623tensor(984.3036, device='cuda:0')\n1624 tensor(979.1629, device='cuda:0')\n1625 tensor(985.8234, device='cuda:0')\n1626 tensor(985.0316, device='cuda:0')\n1627 tensor(985.0437, device='cuda:0')\n1628tensor(980.1689, device='cuda:0')\n1629 tensor(975.2181, device='cuda:0')\n1630 tensor(971.5790, device='cuda:0')\n1631 tensor(966.7102, device='cuda:0')\n1632 tensor(961.0490, device='cuda:0')\n1633tensor(956.6445, device='cuda:0')\n1634 tensor(958.8370, device='cuda:0')\n1635 tensor(952.7066, device='cuda:0')\n1636 tensor(950.5059, device='cuda:0')\n1637 tensor(942.8887, device='cuda:0')\n1638tensor(940.9373, device='cuda:0')\n1639 tensor(944.7893, device='cuda:0')\n1640 tensor(941.7952, device='cuda:0')\n1641 tensor(942.3302, device='cuda:0')\n1642 tensor(947.0239, device='cuda:0')\n1643tensor(945.9495, device='cuda:0')\n1644 tensor(955.9025, device='cuda:0')\n1645 tensor(963.4446, device='cuda:0')\n1646 tensor(968.8272, device='cuda:0')\n1647 tensor(977.6420, device='cuda:0')\n1648tensor(980.5394, device='cuda:0')\n1649 tensor(1001.9233, device='cuda:0')\n1650 tensor(990.0688, device='cuda:0')\n1651 tensor(979.7045, device='cuda:0')\n1652 tensor(978.6116, device='cuda:0')\n1653tensor(980.7204, device='cuda:0')\n1654 tensor(980.6495, device='cuda:0')\n1655 tensor(982.2379, device='cuda:0')\n1656 tensor(998.6038, device='cuda:0')\n1657 tensor(992.5759, device='cuda:0')\n1658tensor(996.2729, device='cuda:0')\n1659 tensor(994.8826, device='cuda:0')\n1660 tensor(989.8947, device='cuda:0')\n1661 tensor(993.1754, device='cuda:0')\n1662 tensor(992.1912, device='cuda:0')\n1663tensor(993.1708, device='cuda:0')\n1664 tensor(990.8473, device='cuda:0')\n1665 tensor(987.3522, device='cuda:0')\n1666 tensor(993.2466, device='cuda:0')\n1667 tensor(995.8176, device='cuda:0')\n1668tensor(992.0575, device='cuda:0')\n1669 tensor(986.9658, device='cuda:0')\n1670 tensor(987.6030, device='cuda:0')\n1671tensor(988.5205, device='cuda:0')\n1672 tensor(980.8937, device='cuda:0')\n1673 tensor(971.7998, device='cuda:0')\n1674tensor(970.4211, device='cuda:0')\n1675 tensor(974.5580, device='cuda:0')\n1676tensor(977.5117, device='cuda:0')\n1677 tensor(983.3818, device='cuda:0')\n1678tensor(971.1454, device='cuda:0')\n1679 tensor(973.4953, device='cuda:0')\n1680 tensor(973.2605, device='cuda:0')\n1681 tensor(969.1333, device='cuda:0')\n1682 tensor(966.5975, device='cuda:0')\n1683tensor(967.6245, device='cuda:0')\n1684 tensor(965.3629, device='cuda:0')\n1685 tensor(960.2207, device='cuda:0')\n1686tensor(977.6210, device='cuda:0')\n1687 tensor(970.5416, device='cuda:0')\n1688tensor(985.8929, device='cuda:0')\n1689 tensor(975.8607, device='cuda:0')\n1690 tensor(991.1427, device='cuda:0')\n1691tensor(986.3925, device='cuda:0')\n1692 tensor(991.2910, device='cuda:0')\n1693 tensor(1000.7604, device='cuda:0')\n1694tensor(996.4501, device='cuda:0')\n1695 tensor(999.7936, device='cuda:0')\n1696tensor(987.1368, device='cuda:0')\n1697 tensor(1006.3920, device='cuda:0')\n1698 tensor(1001.0673, device='cuda:0')\n1699tensor(1005.0690, device='cuda:0')\n1700 tensor(1000.3676, device='cuda:0')\n1701tensor(999.3213, device='cuda:0')\n1702 tensor(996.2737, device='cuda:0')\n1703tensor(996.4919, device='cuda:0')\n1704 tensor(997.5868, device='cuda:0')\n1705 tensor(1003.2147, device='cuda:0')\n1706tensor(991.9237, device='cuda:0')\n1707 tensor(987.1556, device='cuda:0')\n1708tensor(981.8483, device='cuda:0')\n1709 tensor(981.7724, device='cuda:0')\n1710 tensor(985.8218, device='cuda:0')\n1711tensor(978.3109, device='cuda:0')\n1712 tensor(989.7855, device='cuda:0')\n1713tensor(976.2196, device='cuda:0')\n1714 tensor(984.8397, device='cuda:0')\n1715 tensor(974.1568, device='cuda:0')\n1716tensor(981.2230, device='cuda:0')\n1717 tensor(969.2444, device='cuda:0')\n1718tensor(972.8754, device='cuda:0')\n1719 tensor(980.4638, device='cuda:0')\n1720 tensor(983.5211, device='cuda:0')\n1721tensor(985.5193, device='cuda:0')\n1722 tensor(983.5936, device='cuda:0')\n1723tensor(1001.6121, device='cuda:0')\n1724 tensor(987.4740, device='cuda:0')\n1725 tensor(983.9537, device='cuda:0')\n1726tensor(986.9050, device='cuda:0')\n1727 tensor(975.9858, device='cuda:0')\n1728tensor(978.3927, device='cuda:0')\n1729 tensor(971.2322, device='cuda:0')\n1730 tensor(971.3109, device='cuda:0')\n1731 tensor(974.4514, device='cuda:0')\n1732 tensor(971.1935, device='cuda:0')\n1733tensor(963.8540, device='cuda:0')\n1734 tensor(967.5349, device='cuda:0')\n1735 tensor(963.3209, device='cuda:0')\n1736tensor(972.0948, device='cuda:0')\n1737 tensor(967.3375, device='cuda:0')\n1738tensor(973.8887, device='cuda:0')\n1739 tensor(979.9113, device='cuda:0')\n1740 tensor(975.8829, device='cuda:0')\n1741tensor(986.6970, device='cuda:0')\n1742 tensor(981.0438, device='cuda:0')\n1743tensor(987.1333, device='cuda:0')\n1744 tensor(992.3538, device='cuda:0')\n1745 tensor(982.1895, device='cuda:0')\n1746tensor(982.4443, device='cuda:0')\n1747 tensor(979.3247, device='cuda:0')\n1748tensor(974.4973, device='cuda:0')\n1749 tensor(975.7316, device='cuda:0')\n1750 tensor(965.2225, device='cuda:0')\n1751tensor(966.4598, device='cuda:0')\n1752 tensor(966.6135, device='cuda:0')\n1753tensor(977.6919, device='cuda:0')\n1754 tensor(971.9897, device='cuda:0')\n1755 tensor(974.1992, device='cuda:0')\n1756tensor(972.2912, device='cuda:0')\n1757 tensor(970.1149, device='cuda:0')\n1758tensor(967.3375, device='cuda:0')\n1759 tensor(958.3143, device='cuda:0')\n1760 tensor(959.8246, device='cuda:0')\n1761tensor(952.8736, device='cuda:0')\n1762 tensor(960.5416, device='cuda:0')\n1763tensor(950.1329, device='cuda:0')\n1764 tensor(955.2264, device='cuda:0')\n1765 tensor(952.7984, device='cuda:0')\n1766tensor(949.2465, device='cuda:0')\n1767 tensor(957.4109, device='cuda:0')\n1768tensor(966.9763, device='cuda:0')\n1769 tensor(960.0120, device='cuda:0')\n1770 tensor(964.5197, device='cuda:0')\n1771tensor(954.6261, device='cuda:0')\n1772 tensor(958.6631, device='cuda:0')\n1773tensor(949.8286, device='cuda:0')\n1774 tensor(957.5203, device='cuda:0')\n1775 tensor(952.4697, device='cuda:0')\n1776 tensor(963.3141, device='cuda:0')\n1777 tensor(965.1030, device='cuda:0')\n1778tensor(977.3348, device='cuda:0')\n1779 tensor(977.5120, device='cuda:0')\n1780 tensor(977.6213, device='cuda:0')\n1781tensor(975.7476, device='cuda:0')\n1782 tensor(983.5063, device='cuda:0')\n1783tensor(988.6061, device='cuda:0')\n1784 tensor(998.7190, device='cuda:0')\n1785 tensor(987.2847, device='cuda:0')\n1786tensor(995.5988, device='cuda:0')\n1787 tensor(988.9214, device='cuda:0')\n1788tensor(988.1528, device='cuda:0')\n1789 tensor(975.6525, device='cuda:0')\n1790 tensor(973.4232, device='cuda:0')\n1791tensor(964.5046, device='cuda:0')\n1792 tensor(969.3789, device='cuda:0')\n1793tensor(961.8292, device='cuda:0')\n1794 tensor(954.6293, device='cuda:0')\n1795 tensor(944.7636, device='cuda:0')\n1796tensor(944.5734, device='cuda:0')\n1797 tensor(950.3677, device='cuda:0')\n1798 tensor(958.3834, device='cuda:0')\n1799tensor(971.9698, device='cuda:0')\n1800 tensor(968.6495, device='cuda:0')\n1801tensor(963.5160, device='cuda:0')\n1802 tensor(964.0875, device='cuda:0')\n1803tensor(953.1891, device='cuda:0')\n1804 tensor(946.8783, device='cuda:0')\n1805 tensor(945.9378, device='cuda:0')\n1806tensor(942.2201, device='cuda:0')\n1807 tensor(931.6169, device='cuda:0')\n1808tensor(935.2650, device='cuda:0')\n1809 tensor(936.1293, device='cuda:0')\n1810 tensor(944.8544, device='cuda:0')\n1811tensor(942.0356, device='cuda:0')\n1812 tensor(952.9688, device='cuda:0')\n1813tensor(960.9669, device='cuda:0')\n1814 tensor(952.8093, device='cuda:0')\n1815 tensor(969.0025, device='cuda:0')\n1816tensor(962.7892, device='cuda:0')\n1817 tensor(956.2706, device='cuda:0')\n1818tensor(958.1556, device='cuda:0')\n1819 tensor(958.8363, device='cuda:0')\n1820 tensor(958.5027, device='cuda:0')\n1821tensor(960.3494, device='cuda:0')\n1822 tensor(956.7848, device='cuda:0')\n1823 tensor(957.2979, device='cuda:0')\n1824tensor(965.1898, device='cuda:0')\n1825 tensor(962.3920, device='cuda:0')\n1826 tensor(956.5181, device='cuda:0')\n1827 tensor(954.5575, device='cuda:0')\n1828tensor(986.3265, device='cuda:0')\n1829 tensor(978.7185, device='cuda:0')\n1830 tensor(991.8600, device='cuda:0')\n1831tensor(977.3256, device='cuda:0')\n1832 tensor(989.3843, device='cuda:0')\n1833tensor(973.8556, device='cuda:0')\n1834 tensor(982.7686, device='cuda:0')\n1835 tensor(978.4352, device='cuda:0')\n1836 tensor(985.3577, device='cuda:0')\n1837 tensor(983.6627, device='cuda:0')\n1838tensor(991.5587, device='cuda:0')\n1839 tensor(983.5254, device='cuda:0')\n1840 tensor(991.7469, device='cuda:0')\n1841 tensor(987.3854, device='cuda:0')\n1842 tensor(986.6221, device='cuda:0')\n1843tensor(986.9111, device='cuda:0')\n1844 tensor(989.0246, device='cuda:0')\n1845 tensor(991.7088, device='cuda:0')\n1846 tensor(989.2521, device='cuda:0')\n1847 tensor(988.8372, device='cuda:0')\n1848tensor(982.9658, device='cuda:0')\n1849 tensor(979.4597, device='cuda:0')\n1850 tensor(975.2902, device='cuda:0')\n1851tensor(983.5424, device='cuda:0')\n1852 tensor(981.5414, device='cuda:0')\n1853 tensor(984.9624, device='cuda:0')\n1854tensor(985.5618, device='cuda:0')\n1855 tensor(983.9559, device='cuda:0')\n1856 tensor(981.4462, device='cuda:0')\n1857 tensor(983.3312, device='cuda:0')\n1858tensor(974.1464, device='cuda:0')\n1859 tensor(967.6611, device='cuda:0')\n1860 tensor(963.4806, device='cuda:0')\n1861tensor(965.8306, device='cuda:0')\n1862 tensor(956.9780, device='cuda:0')\n1863tensor(963.5612, device='cuda:0')\n1864 tensor(958.7615, device='cuda:0')\n1865 tensor(953.2578, device='cuda:0')\n1866 tensor(962.8977, device='cuda:0')\n1867tensor(956.0808, device='cuda:0')\n1868 tensor(964.2655, device='cuda:0')\n1869tensor(963.6367, device='cuda:0')\n1870 tensor(968.1778, device='cuda:0')\n1871 tensor(974.2747, device='cuda:0')\n1872 tensor(969.0326, device='cuda:0')\n1873tensor(974.1497, device='cuda:0')\n1874 tensor(981.0786, device='cuda:0')\n1875 tensor(976.3235, device='cuda:0')\n1876 tensor(979.6816, device='cuda:0')\n1877 tensor(969.1686, device='cuda:0')\n1878tensor(970.7603, device='cuda:0')\n1879 tensor(971.6138, device='cuda:0')\n1880 tensor(978.3821, device='cuda:0')\n1881 tensor(983.2506, device='cuda:0')\n1882 tensor(977.5448, device='cuda:0')\n1883tensor(987.5764, device='cuda:0')\n1884 tensor(980.8605, device='cuda:0')\n1885 tensor(995.9920, device='cuda:0')\n1886 tensor(981.4799, device='cuda:0')\n1887 tensor(979.4916, device='cuda:0')\n1888tensor(980.0649, device='cuda:0')\n1889 tensor(973.3940, device='cuda:0')\n1890 tensor(976.4396, device='cuda:0')\n1891 tensor(969.5841, device='cuda:0')\n1892 tensor(976.6891, device='cuda:0')\n1893tensor(972.1213, device='cuda:0')\n1894 tensor(980.8139, device='cuda:0')\n1895 tensor(978.5269, device='cuda:0')\n1896 tensor(981.9244, device='cuda:0')\n1897 tensor(972.1892, device='cuda:0')\n1898tensor(980.2617, device='cuda:0')\n1899 tensor(970.0463, device='cuda:0')\n1900 tensor(975.1600, device='cuda:0')\n1901 tensor(964.7092, device='cuda:0')\n1902 tensor(960.4491, device='cuda:0')\n1903tensor(952.1104, device='cuda:0')\n1904 tensor(956.3393, device='cuda:0')\n1905 tensor(945.2510, device='cuda:0')\n1906tensor(951.4582, device='cuda:0')\n1907 tensor(949.1699, device='cuda:0')\n1908tensor(962.4160, device='cuda:0')\n1909 tensor(952.0585, device='cuda:0')\n1910 tensor(961.9328, device='cuda:0')\n1911 tensor(962.3331, device='cuda:0')\n1912 tensor(963.0410, device='cuda:0')\n1913tensor(961.4806, device='cuda:0')\n1914 tensor(955.1418, device='cuda:0')\n1915 tensor(958.4056, device='cuda:0')\n1916 tensor(966.1488, device='cuda:0')\n1917 tensor(963.8544, device='cuda:0')\n1918tensor(952.2768, device='cuda:0')\n1919 tensor(950.2919, device='cuda:0')\n1920 tensor(948.1901, device='cuda:0')\n1921 tensor(943.9918, device='cuda:0')\n1922 tensor(941.8616, device='cuda:0')\n1923tensor(942.8025, device='cuda:0')\n1924 tensor(959.4304, device='cuda:0')\n1925 tensor(949.8057, device='cuda:0')\n1926 tensor(959.8690, device='cuda:0')\n1927 tensor(951.3708, device='cuda:0')\n1928tensor(956.8527, device='cuda:0')\n1929 tensor(957.2286, device='cuda:0')\n1930 tensor(955.7108, device='cuda:0')\n1931 tensor(959.7111, device='cuda:0')\n1932 tensor(953.7042, device='cuda:0')\n1933tensor(950.8480, device='cuda:0')\n1934 tensor(952.1459, device='cuda:0')\n1935 tensor(948.9543, device='cuda:0')\n1936 tensor(951.7017, device='cuda:0')\n1937 tensor(948.4602, device='cuda:0')\n1938tensor(945.4232, device='cuda:0')\n1939 tensor(945.7980, device='cuda:0')\n1940 tensor(943.5355, device='cuda:0')\n1941 tensor(945.8308, device='cuda:0')\n1942 tensor(944.0508, device='cuda:0')\n1943tensor(946.2723, device='cuda:0')\n1944 tensor(947.7944, device='cuda:0')\n1945 tensor(955.3651, device='cuda:0')\n1946 tensor(959.3854, device='cuda:0')\n1947 tensor(953.1590, device='cuda:0')\n1948tensor(960.5732, device='cuda:0')\n1949 tensor(951.1683, device='cuda:0')\n1950 tensor(955.4866, device='cuda:0')\n1951tensor(944.8401, device='cuda:0')\n1952 tensor(958.2267, device='cuda:0')\n1953tensor(952.1862, device='cuda:0')\n1954 tensor(958.8828, device='cuda:0')\n1955 tensor(956.8319, device='cuda:0')\n1956tensor(955.4392, device='cuda:0')\n1957 tensor(969.3523, device='cuda:0')\n1958tensor(959.1074, device='cuda:0')\n1959 tensor(963.5685, device='cuda:0')\n1960 tensor(958.1387, device='cuda:0')\n1961tensor(951.2563, device='cuda:0')\n1962 tensor(950.2665, device='cuda:0')\n1963tensor(949.7273, device='cuda:0')\n1964 tensor(952.5769, device='cuda:0')\n1965 tensor(954.8367, device='cuda:0')\n1966 tensor(951.2144, device='cuda:0')\n1967 tensor(952.6960, device='cuda:0')\n1968tensor(953.0953, device='cuda:0')\n1969 tensor(953.6676, device='cuda:0')\n1970 tensor(955.1821, device='cuda:0')\n1971tensor(946.2510, device='cuda:0')\n1972 tensor(948.0207, device='cuda:0')\n1973tensor(945.2972, device='cuda:0')\n1974 tensor(946.2676, device='cuda:0')\n1975 tensor(944.2678, device='cuda:0')\n1976tensor(940.4552, device='cuda:0')\n1977 tensor(939.3856, device='cuda:0')\n1978tensor(935.9247, device='cuda:0')\n1979 tensor(937.5037, device='cuda:0')\n1980 tensor(942.4276, device='cuda:0')\n1981tensor(945.0052, device='cuda:0')\n1982 tensor(946.4133, device='cuda:0')\n1983tensor(954.6008, device='cuda:0')\n1984 tensor(953.7997, device='cuda:0')\n1985 tensor(952.9059, device='cuda:0')\n1986 tensor(953.6486, device='cuda:0')\n1987 tensor(951.4290, device='cuda:0')\n1988tensor(949.4421, device='cuda:0')\n1989 tensor(948.5138, device='cuda:0')\n1990 tensor(945.2338, device='cuda:0')\n1991 tensor(945.1302, device='cuda:0')\n1992 tensor(940.1497, device='cuda:0')\n1993tensor(940.2433, device='cuda:0')\n1994 tensor(941.4667, device='cuda:0')\n1995 tensor(948.6265, device='cuda:0')\n1996 tensor(937.1740, device='cuda:0')\n1997 tensor(942.6810, device='cuda:0')\n1998tensor(949.7200, device='cuda:0')\n1999 tensor(946.3852, device='cuda:0')\n"
    }
   ],
   "source": [
    "train(2000,1e4,1e2)"
   ]
  }
 ],
 "metadata": {
  "accelerator": "GPU",
  "colab": {
   "collapsed_sections": [],
   "name": "nst_own.ipynb",
   "provenance": []
  },
  "kernelspec": {
   "display_name": "Python 3",
   "language": "python",
   "name": "python3"
  },
  "language_info": {
   "codemirror_mode": {
    "name": "ipython",
    "version": 3
   },
   "file_extension": ".py",
   "mimetype": "text/x-python",
   "name": "python",
   "nbconvert_exporter": "python",
   "pygments_lexer": "ipython3",
   "version": "3.7.6-final"
  }
 },
 "nbformat": 4,
 "nbformat_minor": 4
}