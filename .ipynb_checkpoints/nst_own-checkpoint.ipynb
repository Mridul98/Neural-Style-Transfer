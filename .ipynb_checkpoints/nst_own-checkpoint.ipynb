{
 "cells": [
  {
   "cell_type": "code",
   "execution_count": 1,
   "metadata": {},
   "outputs": [],
   "source": [
    "import torch\n",
    "import torch.nn as nn\n",
    "import torchvision.models as models\n",
    "import torchvision.transforms as tf\n",
    "import torch.optim as optim\n",
    "from PIL import Image\n",
    "import numpy as np"
   ]
  },
  {
   "cell_type": "code",
   "execution_count": null,
   "metadata": {
    "tags": []
   },
   "outputs": [
    {
     "output_type": "error",
     "ename": "NameError",
     "evalue": "name 'torch' is not defined",
     "traceback": [
      "\u001b[1;31m---------------------------------------------------------------------------\u001b[0m",
      "\u001b[1;31mNameError\u001b[0m                                 Traceback (most recent call last)",
      "\u001b[1;32m<ipython-input-3-c58b02ef2e73>\u001b[0m in \u001b[0;36m<module>\u001b[1;34m\u001b[0m\n\u001b[1;32m----> 1\u001b[1;33m \u001b[0mdevice\u001b[0m  \u001b[1;33m=\u001b[0m \u001b[0mtorch\u001b[0m\u001b[1;33m.\u001b[0m\u001b[0mdevice\u001b[0m\u001b[1;33m(\u001b[0m\u001b[1;34m\"cuda: 0 \"\u001b[0m \u001b[1;32mif\u001b[0m \u001b[0mtorch\u001b[0m\u001b[1;33m.\u001b[0m\u001b[0mcuda\u001b[0m\u001b[1;33m.\u001b[0m\u001b[0mis_available\u001b[0m\u001b[1;33m(\u001b[0m\u001b[1;33m)\u001b[0m \u001b[1;32melse\u001b[0m \u001b[1;34m\"cpu\"\u001b[0m\u001b[1;33m)\u001b[0m\u001b[1;33m\u001b[0m\u001b[1;33m\u001b[0m\u001b[0m\n\u001b[0m\u001b[0;32m      2\u001b[0m \u001b[0mprint\u001b[0m\u001b[1;33m(\u001b[0m\u001b[0mdevice\u001b[0m\u001b[1;33m)\u001b[0m\u001b[1;33m\u001b[0m\u001b[1;33m\u001b[0m\u001b[0m\n",
      "\u001b[1;31mNameError\u001b[0m: name 'torch' is not defined"
     ]
    }
   ],
   "source": [
    "device  = torch.device(\"cuda: 0 \" if torch.cuda.is_available() else \"cpu\")\n",
    "print(device)"
   ]
  },
  {
   "cell_type": "code",
   "execution_count": null,
   "metadata": {},
   "outputs": [],
   "source": [
    "content_layer_index = 22\n",
    "style_layer_indexes = [ 1 , 11, 24, 35 ]\n",
    "\n"
   ]
  },
  {
   "cell_type": "code",
   "execution_count": 8,
   "metadata": {},
   "outputs": [],
   "source": [
    "def gram_matrix(tensor):\n",
    "    batch,channel,width,height = tensor.shape\n",
    "    tensor = torch.squeeze(tensor)\n",
    "    return torch.bmm(tensor,torch.transpose(tensor,1,2))/(channel*height*width)"
   ]
  },
  {
   "cell_type": "code",
   "execution_count": null,
   "metadata": {},
   "outputs": [],
   "source": [
    "class net(nn.Module):\n",
    "    def __init__(self,content_layer_index,style_layer_index):\n",
    "        super(net,self).__init__()\n",
    "        self.vgg = models.vgg19(pretrained=True).cuda()\n",
    "        for params in  self.vgg.parameters():\n",
    "            params.requires_grad = False\n",
    "        self.pruned_sequential = list(self.vgg.children())[0]\n",
    "        self.content_layer_index = content_layer_index\n",
    "        self.style_layer_index = style_layer_index\n",
    "        for params in self.pruned_sequential.parameters():\n",
    "            params.requires_grad = False\n",
    "    def forward(self,inputImage,styleImage,contentImage):\n",
    "        styleImageActivation = []\n",
    "        styleGenActivation = []\n",
    "        contentImageActivation = 0\n",
    "        contentGenActivation = 0 \n",
    "        contentImage1 = contentImage.data\n",
    "        styleImage1 = styleImage.data \n",
    "        for i , layer in enumerate(self.pruned_sequential):\n",
    "\n",
    "           \n",
    "           \n",
    "\n",
    "            contentImage1 = layer(contentImage1)\n",
    "            inputImage = layer(inputImage)\n",
    "            styleImage1 = layer(styleImage1)\n",
    "\n",
    "            if i == self.content_layer_index:\n",
    "               \n",
    "                contentImageActivation = torch.sum(torch.sum(torch.squeeze(contentImage1),2),1)\n",
    "                contentGenActivation = torch.sum(torch.sum(torch.squeeze(inputImage),2),1)\n",
    "             \n",
    "                contentImageActivation.requires_grad = False \n",
    "            if i in style_layer_indexes:\n",
    "                \n",
    "                    \n",
    "                ImageGram = gram_matrix(styleImage1)\n",
    "                ImageGram.requires_grad = False\n",
    "                GenGram = gram_matrix(inputImage)\n",
    "               \n",
    "                styleImageActivation.append(ImageGram)\n",
    "                styleGenActivation.append(GenGram)\n",
    " \n",
    "        return contentImageActivation , contentGenActivation , styleImageActivation ,styleGenActivation\n",
    "\n",
    "\n",
    "\n",
    "\n"
   ]
  },
  {
   "cell_type": "code",
   "execution_count": 13,
   "metadata": {},
   "outputs": [
    {
     "output_type": "error",
     "ename": "NameError",
     "evalue": "name 'net' is not defined",
     "traceback": [
      "\u001b[1;31m---------------------------------------------------------------------------\u001b[0m",
      "\u001b[1;31mNameError\u001b[0m                                 Traceback (most recent call last)",
      "\u001b[1;32m<ipython-input-13-ef2d65d0e86c>\u001b[0m in \u001b[0;36m<module>\u001b[1;34m\u001b[0m\n\u001b[1;32m----> 1\u001b[1;33m \u001b[0mnst_net\u001b[0m \u001b[1;33m=\u001b[0m \u001b[0mnet\u001b[0m\u001b[1;33m(\u001b[0m\u001b[0mcontent_layer_index\u001b[0m\u001b[1;33m,\u001b[0m\u001b[0mstyle_layer_indexes\u001b[0m\u001b[1;33m)\u001b[0m\u001b[1;33m\u001b[0m\u001b[1;33m\u001b[0m\u001b[0m\n\u001b[0m\u001b[0;32m      2\u001b[0m \u001b[0mnst_net\u001b[0m\u001b[1;33m.\u001b[0m\u001b[0mto\u001b[0m\u001b[1;33m(\u001b[0m\u001b[0mdevice\u001b[0m\u001b[1;33m=\u001b[0m\u001b[0mdevice\u001b[0m\u001b[1;33m)\u001b[0m\u001b[1;33m\u001b[0m\u001b[1;33m\u001b[0m\u001b[0m\n",
      "\u001b[1;31mNameError\u001b[0m: name 'net' is not defined"
     ]
    }
   ],
   "source": [
    "nst_net = net(content_layer_index,style_layer_indexes)\n",
    "nst_net.to(device=device)\n"
   ]
  },
  {
   "cell_type": "code",
   "execution_count": null,
   "metadata": {},
   "outputs": [],
   "source": [
    "contentLoss = nn.MSELoss()\n",
    "styleLoss = nn.MSELoss()\n"
   ]
  },
  {
   "cell_type": "code",
   "execution_count": null,
   "metadata": {
    "tags": []
   },
   "outputs": [],
   "source": [
    "\n",
    "\n",
    "def load_img(path):\n",
    "    \n",
    "    img = Image.open(path).convert('RGB')\n",
    "    img = img.resize((224,224))\n",
    "   \n",
    "    img = np.array(img).transpose(2, 0, 1)\n",
    "    img = torch.from_numpy(img).float()\n",
    "    return img\n",
    "   \n",
    "   \n",
    "  \n",
    " \n",
    "def preprocess(img):\n",
    "    img = torch.unsqueeze(img,0)\n",
    "    img = img.transpose(0,1)\n",
    "    (r,g,b) = torch.chunk(img,3)\n",
    "    img = torch.cat((b,g,r))\n",
    "    img = img.transpose(0,1)\n",
    "    return img\n",
    "\n",
    "\n",
    "def subtractImageNetMean(img):\n",
    "    ttype = type(img.data)\n",
    "    mean = ttype(img.data.size()).cuda()\n",
    "    std = ttype(img.data.size()).cuda()\n",
    "    mean[:,0,:,:] = 0.485\n",
    "    mean[:,1,:,:] = 0.456\n",
    "    mean[:,2,:,:] = 0.406\n",
    "    std[:,0,:,:] = 1\n",
    "    std[:,1,:,:] = 1\n",
    "    std[:,2,:,:] = 1\n",
    "\n",
    "    return (img - mean)/std\n",
    "def addImageNetMean(img):\n",
    "    ttype = type(img.data)\n",
    "    mean = ttype(img.data.size()).cuda()\n",
    "    std = ttype(img.data.size()).cuda()\n",
    "    mean[:,0,:,:] = 0.485\n",
    "    mean[:,1,:,:] = 0.456\n",
    "    mean[:,2,:,:] = 0.406\n",
    "    std[:,0,:,:] = 1\n",
    "    std[:,1,:,:] = 1\n",
    "    std[:,2,:,:] = 1\n",
    "    return (img*std)+ mean\n",
    "def imageNetClamp(img,low,high):\n",
    "    img[:,0,:,:].data.clamp_(low-0.485,high-0.485)\n",
    "    img[:,1,:,:].data.clamp_(low-0.456,high-0.456)\n",
    "    img[:,2,:,:].data.clamp_(low-0.406,high-0.406)\n",
    "\n",
    "\n",
    "def tensor_save_rgbimage(tensor, cuda=True):\n",
    "    if cuda:\n",
    "        img = tensor.clone().cpu().clamp(0, 255).numpy()\n",
    "    else:\n",
    "        img = tensor.clone().clamp(0, 255).numpy()\n",
    "    img = img.transpose(1, 2, 0).astype('uint8')\n",
    "    img = Image.fromarray(img)\n",
    "    return img\n",
    "\n",
    "\n",
    "def tensor_save_bgrimage(tensor, cuda=True):\n",
    "    tensor = torch.squeeze(tensor)\n",
    "    (b, g, r) = torch.chunk(tensor, 3)\n",
    "    tensor = torch.cat((r, g, b))\n",
    "    return tensor\n",
    "\n",
    "\n"
   ]
  },
  {
   "cell_type": "code",
   "execution_count": 22,
   "metadata": {},
   "outputs": [],
   "source": [
    "def train(epoch,inputImage,styleImage,contentImage):\n",
    "   \n",
    "    totalLoss = None\n",
    "    inputImage, styleImage , contentImage = inputImage.to(device=device), styleImage.to(device) , contentImage.to(device)\n",
    "    optimizer = optim.Adam([inputImage],lr=0.03)\n",
    "    for i in range(epoch):\n",
    "        imageNetClamp(inputImage,0,255)\n",
    "        optimizer.zero_grad()\n",
    "        cia , cga , sia , sga = nst_net(inputImage,styleImage,contentImage)\n",
    "        sia1,sia2,sia3,sia4 = sia\n",
    "        sga1,sga2,sga3,sga4 = sga\n",
    "        s_one = torch.mul(styleLoss(torch.mul(sga1,1000),torch.mul(sia1,1000)),(1/(4*(64**2)*(224**2)**2)))\n",
    "        s_two = torch.mul(styleLoss(torch.mul(sga2,1000),torch.mul(sia2,1000)),(1/(4*(256**2)*(56**2)**2)))\n",
    "        s_three = torch.mul(styleLoss(torch.mul(sga3,1000),torch.mul(sia3,1000)),(1/(4*(512**2)*(28**2)**2)))\n",
    "        s_four = torch.mul(styleLoss(torch.mul(sga4,1000),torch.mul(sia4,1000)),(1/(4*(512**2)*(14**2)**2)))\n",
    "        #print(s_one)\n",
    "        total_style_loss = s_one + s_two + s_three + s_four\n",
    "        totalLoss = torch.mul(contentLoss(torch.mul(cga,5),torch.mul(cia,5)),(10/(4*512*28*28))) + torch.mul(total_style_loss,40)\n",
    "        print(i, totalLoss.data)\n",
    "        totalLoss.backward()\n",
    "        optimizer.step()\n",
    "   \n",
    "    \n",
    "   "
   ]
  },
  {
   "cell_type": "code",
   "execution_count": null,
   "metadata": {
    "tags": []
   },
   "outputs": [],
   "source": [
    "\n",
    "\n",
    "ContentImage = load_img('content.jpg').cuda()\n",
    "ContentImage = preprocess(ContentImage)\n",
    "ContentImage = subtractImageNetMean(ContentImage)\n",
    "gImage = torch.Tensor(ContentImage.data)\n",
    "gImage.requires_grad = True\n",
    "GeneratedImage = torch.tensor(gImage.data,requires_grad=True,device = device)\n",
    "print(ContentImage.shape)\n",
    "StyleImage = load_img('style.jpg').cuda()\n",
    "StyleImage = preprocess(StyleImage)\n",
    "StyleImage = subtractImageNetMean(StyleImage)\n",
    "print(StyleImage.shape)\n",
    "ContentImage.requires_grad = False\n",
    "StyleImage.requires_grad = False\n",
    "\n",
    "\n",
    "train(130 , GeneratedImage , StyleImage , ContentImage)"
   ]
  },
  {
   "cell_type": "code",
   "execution_count": 27,
   "metadata": {
    "tags": []
   },
   "outputs": [],
   "source": [
    "#train(3000 , GeneratedImage , StyleImage , ContentImage)"
   ]
  },
  {
   "cell_type": "code",
   "execution_count": null,
   "metadata": {
    "tags": []
   },
   "outputs": [],
   "source": [
    "final = addImageNetMean(GeneratedImage.data) \n",
    "\n",
    "\n"
   ]
  },
  {
   "cell_type": "code",
   "execution_count": 32,
   "metadata": {},
   "outputs": [
    {
     "output_type": "error",
     "ename": "NameError",
     "evalue": "name 'GeneratedImage' is not defined",
     "traceback": [
      "\u001b[1;31m---------------------------------------------------------------------------\u001b[0m",
      "\u001b[1;31mNameError\u001b[0m                                 Traceback (most recent call last)",
      "\u001b[1;32m<ipython-input-32-61afecb26c2a>\u001b[0m in \u001b[0;36m<module>\u001b[1;34m\u001b[0m\n\u001b[1;32m----> 1\u001b[1;33m \u001b[0mGeneratedImage\u001b[0m\u001b[1;33m.\u001b[0m\u001b[0mshape\u001b[0m\u001b[1;33m\u001b[0m\u001b[1;33m\u001b[0m\u001b[0m\n\u001b[0m",
      "\u001b[1;31mNameError\u001b[0m: name 'GeneratedImage' is not defined"
     ]
    }
   ],
   "source": [
    "GeneratedImage.shape"
   ]
  },
  {
   "cell_type": "code",
   "execution_count": null,
   "metadata": {},
   "outputs": [],
   "source": [
    "result = tensor_save_bgrimage(final,True)\n"
   ]
  },
  {
   "cell_type": "code",
   "execution_count": null,
   "metadata": {},
   "outputs": [],
   "source": [
    "result = tensor_save_rgbimage(result,True)"
   ]
  },
  {
   "cell_type": "code",
   "execution_count": 40,
   "metadata": {},
   "outputs": [
    {
     "output_type": "error",
     "ename": "NameError",
     "evalue": "name 'result' is not defined",
     "traceback": [
      "\u001b[1;31m---------------------------------------------------------------------------\u001b[0m",
      "\u001b[1;31mNameError\u001b[0m                                 Traceback (most recent call last)",
      "\u001b[1;32m<ipython-input-40-0ac921c19f1a>\u001b[0m in \u001b[0;36m<module>\u001b[1;34m\u001b[0m\n\u001b[1;32m----> 1\u001b[1;33m \u001b[0mresult\u001b[0m\u001b[1;33m\u001b[0m\u001b[1;33m\u001b[0m\u001b[0m\n\u001b[0m",
      "\u001b[1;31mNameError\u001b[0m: name 'result' is not defined"
     ]
    }
   ],
   "source": [
    "result"
   ]
  },
  {
   "cell_type": "code",
   "execution_count": 42,
   "metadata": {},
   "outputs": [
    {
     "output_type": "execute_result",
     "data": {
      "text/plain": "64"
     },
     "metadata": {},
     "execution_count": 42
    }
   ],
   "source": [
    "8**2"
   ]
  },
  {
   "cell_type": "code",
   "execution_count": 43,
   "metadata": {},
   "outputs": [
    {
     "output_type": "error",
     "ename": "NameError",
     "evalue": "name 'ContentImage' is not defined",
     "traceback": [
      "\u001b[1;31m---------------------------------------------------------------------------\u001b[0m",
      "\u001b[1;31mNameError\u001b[0m                                 Traceback (most recent call last)",
      "\u001b[1;32m<ipython-input-43-6a344210b506>\u001b[0m in \u001b[0;36m<module>\u001b[1;34m\u001b[0m\n\u001b[1;32m----> 1\u001b[1;33m \u001b[0mContentImage\u001b[0m\u001b[1;33m.\u001b[0m\u001b[0mrequires_grad\u001b[0m\u001b[1;33m\u001b[0m\u001b[1;33m\u001b[0m\u001b[0m\n\u001b[0m",
      "\u001b[1;31mNameError\u001b[0m: name 'ContentImage' is not defined"
     ]
    }
   ],
   "source": [
    "ContentImage.requires_grad"
   ]
  },
  {
   "cell_type": "code",
   "execution_count": 44,
   "metadata": {},
   "outputs": [
    {
     "output_type": "error",
     "ename": "NameError",
     "evalue": "name 'ContentImage' is not defined",
     "traceback": [
      "\u001b[1;31m---------------------------------------------------------------------------\u001b[0m",
      "\u001b[1;31mNameError\u001b[0m                                 Traceback (most recent call last)",
      "\u001b[1;32m<ipython-input-44-6eb38b9d4850>\u001b[0m in \u001b[0;36m<module>\u001b[1;34m\u001b[0m\n\u001b[1;32m----> 1\u001b[1;33m \u001b[0mContentImage\u001b[0m\u001b[1;33m.\u001b[0m\u001b[0mdata\u001b[0m\u001b[1;33m.\u001b[0m\u001b[0mrequires_grad\u001b[0m\u001b[1;33m\u001b[0m\u001b[1;33m\u001b[0m\u001b[0m\n\u001b[0m",
      "\u001b[1;31mNameError\u001b[0m: name 'ContentImage' is not defined"
     ]
    }
   ],
   "source": [
    "ContentImage.data.requires_grad"
   ]
  },
  {
   "cell_type": "code",
   "execution_count": 45,
   "metadata": {},
   "outputs": [
    {
     "output_type": "error",
     "ename": "NameError",
     "evalue": "name 'GeneratedImage' is not defined",
     "traceback": [
      "\u001b[1;31m---------------------------------------------------------------------------\u001b[0m",
      "\u001b[1;31mNameError\u001b[0m                                 Traceback (most recent call last)",
      "\u001b[1;32m<ipython-input-45-5c519bdc09a3>\u001b[0m in \u001b[0;36m<module>\u001b[1;34m\u001b[0m\n\u001b[1;32m----> 1\u001b[1;33m \u001b[0mGeneratedImage\u001b[0m\u001b[1;33m.\u001b[0m\u001b[0mdata\u001b[0m\u001b[1;33m.\u001b[0m\u001b[0mrequires_grad\u001b[0m\u001b[1;33m\u001b[0m\u001b[1;33m\u001b[0m\u001b[0m\n\u001b[0m",
      "\u001b[1;31mNameError\u001b[0m: name 'GeneratedImage' is not defined"
     ]
    }
   ],
   "source": [
    "GeneratedImage.data.requires_grad"
   ]
  },
  {
   "cell_type": "code",
   "execution_count": 46,
   "metadata": {},
   "outputs": [
    {
     "output_type": "error",
     "ename": "NameError",
     "evalue": "name 'gImage' is not defined",
     "traceback": [
      "\u001b[1;31m---------------------------------------------------------------------------\u001b[0m",
      "\u001b[1;31mNameError\u001b[0m                                 Traceback (most recent call last)",
      "\u001b[1;32m<ipython-input-46-ef072a46fc12>\u001b[0m in \u001b[0;36m<module>\u001b[1;34m\u001b[0m\n\u001b[1;32m----> 1\u001b[1;33m \u001b[0mgImage\u001b[0m\u001b[1;33m.\u001b[0m\u001b[0mdata\u001b[0m\u001b[1;33m.\u001b[0m\u001b[0mrequires_grad\u001b[0m\u001b[1;33m\u001b[0m\u001b[1;33m\u001b[0m\u001b[0m\n\u001b[0m",
      "\u001b[1;31mNameError\u001b[0m: name 'gImage' is not defined"
     ]
    }
   ],
   "source": [
    "gImage.data.requires_grad"
   ]
  },
  {
   "cell_type": "code",
   "execution_count": null,
   "metadata": {},
   "outputs": [],
   "source": []
  }
 ],
 "metadata": {
  "language_info": {
   "codemirror_mode": {
    "name": "ipython",
    "version": 3
   },
   "file_extension": ".py",
   "mimetype": "text/x-python",
   "name": "python",
   "nbconvert_exporter": "python",
   "pygments_lexer": "ipython3",
   "version": "3.7.6-final"
  },
  "orig_nbformat": 2,
  "kernelspec": {
   "name": "python3",
   "display_name": "Python 3"
  }
 },
 "nbformat": 4,
 "nbformat_minor": 2
}